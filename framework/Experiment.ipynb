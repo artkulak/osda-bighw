{
 "cells": [
  {
   "cell_type": "markdown",
   "id": "bd3080be-224d-4bec-8925-388c8af08698",
   "metadata": {},
   "source": [
    "# Lazy FCA Binary Classification Problem\n",
    "\n",
    "\n",
    "### Dataset: <a href=\"https://archive.ics.uci.edu/ml/datasets/Breast+Cancer\">Breast Cancer Data Set</a>\n",
    "\n",
    "<b>Attribute Information</b>:\n",
    "   1. <b>Class</b>: no-recurrence-events, recurrence-events\n",
    "   2. <b>age</b>: 10-19, 20-29, 30-39, 40-49, 50-59, 60-69, 70-79, 80-89, 90-99.\n",
    "   3. <b>menopause</b>: lt40, ge40, premeno.\n",
    "   4. <b>tumornode-caps-size</b>: 0-4, 5-9, 10-14, 15-19, 20-24, 25-29, 30-34, 35-39, 40-44, 45-49, 50-54, 55-59.\n",
    "   5. <b>inv-nodes</b>: 0-2, 3-5, 6-8, 9-11, 12-14, 15-17, 18-20, 21-23, 24-26, 27-29, 30-32, 33-35, 36-39.\n",
    "   6. <b>node-caps</b>: yes, no, ?\n",
    "   7. <b>deg-malig</b>: 1, 2, 3.\n",
    "   8. <b>breast</b>: left, right.\n",
    "   9. <b>breast-quad</b>: left-up, left-low, right-up,\tright-low, central.\n",
    "  10. <b>irradiat</b>: yes, no."
   ]
  },
  {
   "cell_type": "code",
   "execution_count": 1,
   "id": "b500b476-6305-4d70-9b7e-82b0b93709d0",
   "metadata": {},
   "outputs": [],
   "source": [
    "from pathlib import Path\n",
    "import pandas as pd\n",
    "\n",
    "RANDOM_SEED = 4444\n",
    "DATA_PATH = Path('../data/')"
   ]
  },
  {
   "cell_type": "markdown",
   "id": "e4da5998-f07d-4d3f-96e6-d712485d600c",
   "metadata": {},
   "source": [
    "## Read the data"
   ]
  },
  {
   "cell_type": "code",
   "execution_count": 2,
   "id": "036d4ce4-8b18-45b8-a9c1-9c8e19d8ecb7",
   "metadata": {},
   "outputs": [
    {
     "data": {
      "text/html": [
       "<div>\n",
       "<style scoped>\n",
       "    .dataframe tbody tr th:only-of-type {\n",
       "        vertical-align: middle;\n",
       "    }\n",
       "\n",
       "    .dataframe tbody tr th {\n",
       "        vertical-align: top;\n",
       "    }\n",
       "\n",
       "    .dataframe thead th {\n",
       "        text-align: right;\n",
       "    }\n",
       "</style>\n",
       "<table border=\"1\" class=\"dataframe\">\n",
       "  <thead>\n",
       "    <tr style=\"text-align: right;\">\n",
       "      <th></th>\n",
       "      <th>class</th>\n",
       "      <th>age</th>\n",
       "      <th>menopause</th>\n",
       "      <th>tumor-size</th>\n",
       "      <th>inv-nodes</th>\n",
       "      <th>node-caps</th>\n",
       "      <th>deg-malig</th>\n",
       "      <th>breast</th>\n",
       "      <th>breast-quad</th>\n",
       "      <th>irradiat</th>\n",
       "    </tr>\n",
       "  </thead>\n",
       "  <tbody>\n",
       "    <tr>\n",
       "      <th>0</th>\n",
       "      <td>no-recurrence-events</td>\n",
       "      <td>30-39</td>\n",
       "      <td>premeno</td>\n",
       "      <td>30-34</td>\n",
       "      <td>0-2</td>\n",
       "      <td>no</td>\n",
       "      <td>3</td>\n",
       "      <td>left</td>\n",
       "      <td>left_low</td>\n",
       "      <td>no</td>\n",
       "    </tr>\n",
       "    <tr>\n",
       "      <th>1</th>\n",
       "      <td>no-recurrence-events</td>\n",
       "      <td>40-49</td>\n",
       "      <td>premeno</td>\n",
       "      <td>20-24</td>\n",
       "      <td>0-2</td>\n",
       "      <td>no</td>\n",
       "      <td>2</td>\n",
       "      <td>right</td>\n",
       "      <td>right_up</td>\n",
       "      <td>no</td>\n",
       "    </tr>\n",
       "  </tbody>\n",
       "</table>\n",
       "</div>"
      ],
      "text/plain": [
       "                  class    age menopause tumor-size inv-nodes node-caps  \\\n",
       "0  no-recurrence-events  30-39   premeno      30-34       0-2        no   \n",
       "1  no-recurrence-events  40-49   premeno      20-24       0-2        no   \n",
       "\n",
       "   deg-malig breast breast-quad irradiat  \n",
       "0          3   left    left_low       no  \n",
       "1          2  right    right_up       no  "
      ]
     },
     "execution_count": 2,
     "metadata": {},
     "output_type": "execute_result"
    }
   ],
   "source": [
    "data = pd.read_csv(DATA_PATH / 'breast-cancer.data', header = None)\n",
    "data.columns = ['class', 'age', 'menopause', 'tumor-size', 'inv-nodes', 'node-caps', 'deg-malig', 'breast', 'breast-quad', 'irradiat']\n",
    "data.head(2)"
   ]
  },
  {
   "cell_type": "code",
   "execution_count": 3,
   "id": "ed45b4dd-5a89-4d74-97af-448c9bec3d5b",
   "metadata": {},
   "outputs": [
    {
     "name": "stdout",
     "output_type": "stream",
     "text": [
      "Total size of the data: 286\n"
     ]
    }
   ],
   "source": [
    "print('Total size of the data:', data.shape[0])"
   ]
  },
  {
   "cell_type": "code",
   "execution_count": 4,
   "id": "4cea26c9-405e-484d-b1a2-74248c9e03ce",
   "metadata": {},
   "outputs": [
    {
     "data": {
      "text/plain": [
       "class          0\n",
       "age            0\n",
       "menopause      0\n",
       "tumor-size     0\n",
       "inv-nodes      0\n",
       "node-caps      0\n",
       "deg-malig      0\n",
       "breast         0\n",
       "breast-quad    0\n",
       "irradiat       0\n",
       "dtype: int64"
      ]
     },
     "execution_count": 4,
     "metadata": {},
     "output_type": "execute_result"
    }
   ],
   "source": [
    "# just in case\n",
    "data.isna().sum()"
   ]
  },
  {
   "cell_type": "markdown",
   "id": "aa504559-601e-4ba9-9ec1-9461601b50fc",
   "metadata": {},
   "source": [
    "## Preprocess For FCA\n",
    "\n",
    "Our data has categorical & binary features, categorical features do not allow us to use FCA directly, so we need to encode this data somehow. <br>\n",
    "Here I will use One Hot Encoding to address this issue."
   ]
  },
  {
   "cell_type": "code",
   "execution_count": 5,
   "id": "b7aa0ea9-cec2-49fd-a9e3-28a7974aa5ea",
   "metadata": {},
   "outputs": [],
   "source": [
    "# firstly let's binarize the columns that have only 2 unique values\n",
    "\n",
    "data['class'] = data['class'].map({'no-recurrence-events': 0, 'recurrence-events': 1})\n",
    "data['breast'] = data['breast'].map({'left': 0, 'right': 1})\n",
    "data['irradiat'] = data['irradiat'].map({'no': 0, 'yes': 1})\n",
    "\n",
    "assert(data.isna().sum().sum() == 0) # check that we didn't spoil the data"
   ]
  },
  {
   "cell_type": "code",
   "execution_count": 6,
   "id": "b0cdc0a7-8234-49fe-9b61-a20ea73f7a04",
   "metadata": {},
   "outputs": [],
   "source": [
    "# now let's deal with textual columns that have more than 2 unique values\n",
    "\n",
    "for col in ['age', 'menopause', 'tumor-size', 'inv-nodes', 'node-caps', 'deg-malig', 'breast-quad']:\n",
    "    data = pd.concat([data, pd.get_dummies(data[col], prefix=f'{col}')], axis = 1).drop(columns = [col])\n",
    "    \n",
    "# check that we didn't spoil the data \n",
    "\n",
    "assert(data.isna().sum().sum() == 0) # no missing values\n",
    "assert((data.nunique().unique()[0] == 2) & (data.nunique().unique().shape[0] == 1)) # all columns have only 2 unique values"
   ]
  },
  {
   "cell_type": "markdown",
   "id": "c3bb947f-bd1a-46ce-8256-3139736a4357",
   "metadata": {},
   "source": [
    "## Predict with Lazy Learning Algorithm"
   ]
  },
  {
   "cell_type": "code",
   "execution_count": 7,
   "id": "89fd2c25-47d1-46bd-94ea-0b1f389aa7a6",
   "metadata": {},
   "outputs": [],
   "source": [
    "from lazy_learning_framework import LazyLearningAlgo\n",
    "algo = LazyLearningAlgo(min_support = 0.2, allow_online_learning = False, fca_algorithm = 'apriori', prediction_algorithm = 'itemsets_intersection_sums')"
   ]
  },
  {
   "cell_type": "code",
   "execution_count": 13,
   "id": "16a29250-c02e-4516-b56f-1721bd68de4d",
   "metadata": {},
   "outputs": [],
   "source": [
    "from sklearn.metrics import accuracy_score, precision_score, recall_score, confusion_matrix\n",
    "def print_oof_metrics(Y, Y_pred):\n",
    "    print('\\n\\n\\n')\n",
    "    tn, fp, fn, tp = confusion_matrix(Y, Y_pred).ravel()\n",
    "    print('OOF accuracy', accuracy_score(Y, Y_pred))\n",
    "    print(f'TN {tn} FP {fp} FN {fn} TP {tp}')\n",
    "    print('OOF precision', precision_score(Y, Y_pred))\n",
    "    print('OOF recall', recall_score(Y, oof_preds))\n",
    "    \n",
    "    return accuracy_score(Y, Y_pred)"
   ]
  },
  {
   "cell_type": "code",
   "execution_count": 9,
   "id": "f2c5cee1-4949-4c74-92d0-da05ac8b2a93",
   "metadata": {},
   "outputs": [
    {
     "name": "stdout",
     "output_type": "stream",
     "text": [
      "Fold 0 Accuracy 0.7413793103448276\n",
      "Fold 1 Accuracy 0.5964912280701754\n",
      "Fold 2 Accuracy 0.7368421052631579\n",
      "Fold 3 Accuracy 0.7719298245614035\n",
      "Fold 4 Accuracy 0.8245614035087719\n",
      "\n",
      "\n",
      "\n",
      "\n",
      "OOF accuracy 0.7342657342657343\n",
      "TN 187 FP 14 FN 62 TP 23\n",
      "OOF precision 0.6216216216216216\n",
      "OOF recall 0.27058823529411763\n"
     ]
    }
   ],
   "source": [
    "# KFold crossvalidation\n",
    "from sklearn.model_selection import KFold\n",
    "from sklearn.metrics import accuracy_score, precision_score, recall_score, confusion_matrix\n",
    "import numpy as np\n",
    "\n",
    "X, Y = data.drop(columns = ['class']), data['class']\n",
    "kf = KFold(n_splits = 5, shuffle = True, random_state = RANDOM_SEED)\n",
    "oof_preds = np.zeros(Y.shape[0])\n",
    "\n",
    "for fold_idx, (tr_idx, val_idx) in enumerate(kf.split(X, Y)):\n",
    "    X_tr, X_val = X.iloc[tr_idx], X.iloc[val_idx]\n",
    "    Y_tr, Y_val = Y.iloc[tr_idx], Y.iloc[val_idx]\n",
    "    \n",
    "    Y_pred = algo.run_prediction(X_tr, Y_tr, X_val)\n",
    "    oof_preds[val_idx] = Y_pred\n",
    "    print(f'Fold {fold_idx} Accuracy', accuracy_score(Y_val, Y_pred))\n",
    "\n",
    "oof_acc = print_oof_metrics(Y, oof_preds)"
   ]
  },
  {
   "cell_type": "markdown",
   "id": "ec8c1d11-480c-484e-baec-522eaab5a8a2",
   "metadata": {},
   "source": [
    "## Run GridSearch"
   ]
  },
  {
   "cell_type": "code",
   "execution_count": 10,
   "id": "a7a2eb9c-9846-4f33-a34a-4fc68cc9d5a6",
   "metadata": {},
   "outputs": [],
   "source": [
    "# example params\n",
    "params = {\n",
    "    'min_support': 0.2, \n",
    "    'allow_online_learning': False, \n",
    "    'fca_algorithm': 'apriori', \n",
    "    'prediction_algorithm': 'itemsets_intersection_sums'\n",
    "}"
   ]
  },
  {
   "cell_type": "code",
   "execution_count": 11,
   "id": "349a7a8c-92fa-47ce-9d5f-8f09beef9b71",
   "metadata": {},
   "outputs": [],
   "source": [
    "from lazy_learning_framework import LazyLearningAlgo\n",
    "def validate_algo(data, params):\n",
    "    algo = LazyLearningAlgo(**params)\n",
    "    \n",
    "    X, Y = data.drop(columns = ['class']), data['class']\n",
    "    kf = KFold(n_splits = 5, shuffle = True, random_state = RANDOM_SEED)\n",
    "    oof_preds = np.zeros(Y.shape[0])\n",
    "\n",
    "    for fold_idx, (tr_idx, val_idx) in enumerate(kf.split(X, Y)):\n",
    "        X_tr, X_val = X.iloc[tr_idx], X.iloc[val_idx]\n",
    "        Y_tr, Y_val = Y.iloc[tr_idx], Y.iloc[val_idx]\n",
    "\n",
    "        Y_pred = algo.run_prediction(X_tr, Y_tr, X_val)\n",
    "        oof_preds[val_idx] = Y_pred\n",
    "        print(f'Fold {fold_idx} Accuracy', accuracy_score(Y_val, Y_pred))\n",
    "\n",
    "    oof_acc = print_oof_metrics(Y, oof_preds)\n",
    "    return oof_acc"
   ]
  },
  {
   "cell_type": "code",
   "execution_count": 14,
   "id": "180e9c06-2698-4235-b49e-92e48ca01206",
   "metadata": {},
   "outputs": [
    {
     "name": "stdout",
     "output_type": "stream",
     "text": [
      "\n",
      "\n",
      "\n",
      "----------------------------------Running GridSearch; Iteration 0----------------------------------\n",
      "\n",
      "Fold 0 Accuracy 0.8275862068965517\n",
      "Fold 1 Accuracy 0.631578947368421\n",
      "Fold 2 Accuracy 0.6666666666666666\n",
      "Fold 3 Accuracy 0.7368421052631579\n",
      "Fold 4 Accuracy 0.631578947368421\n",
      "\n",
      "\n",
      "\n",
      "\n",
      "OOF accuracy 0.6993006993006993\n",
      "TN 155 FP 46 FN 40 TP 45\n",
      "OOF precision 0.4945054945054945\n",
      "OOF recall 0.27058823529411763\n",
      "\n",
      "\n",
      "\n",
      "----------------------------------Running GridSearch; Iteration 1----------------------------------\n",
      "\n",
      "Fold 0 Accuracy 0.7413793103448276\n",
      "Fold 1 Accuracy 0.5964912280701754\n",
      "Fold 2 Accuracy 0.7368421052631579\n",
      "Fold 3 Accuracy 0.7719298245614035\n",
      "Fold 4 Accuracy 0.8245614035087719\n",
      "\n",
      "\n",
      "\n",
      "\n",
      "OOF accuracy 0.7342657342657343\n",
      "TN 187 FP 14 FN 62 TP 23\n",
      "OOF precision 0.6216216216216216\n",
      "OOF recall 0.27058823529411763\n",
      "\n",
      "\n",
      "\n",
      "----------------------------------Running GridSearch; Iteration 2----------------------------------\n",
      "\n",
      "Fold 0 Accuracy 0.8275862068965517\n",
      "Fold 1 Accuracy 0.631578947368421\n",
      "Fold 2 Accuracy 0.6666666666666666\n",
      "Fold 3 Accuracy 0.7368421052631579\n",
      "Fold 4 Accuracy 0.631578947368421\n",
      "\n",
      "\n",
      "\n",
      "\n",
      "OOF accuracy 0.6993006993006993\n",
      "TN 155 FP 46 FN 40 TP 45\n",
      "OOF precision 0.4945054945054945\n",
      "OOF recall 0.27058823529411763\n",
      "\n",
      "\n",
      "\n",
      "----------------------------------Running GridSearch; Iteration 3----------------------------------\n",
      "\n",
      "Fold 0 Accuracy 0.7413793103448276\n",
      "Fold 1 Accuracy 0.5964912280701754\n",
      "Fold 2 Accuracy 0.7368421052631579\n",
      "Fold 3 Accuracy 0.7719298245614035\n",
      "Fold 4 Accuracy 0.8245614035087719\n",
      "\n",
      "\n",
      "\n",
      "\n",
      "OOF accuracy 0.7342657342657343\n",
      "TN 187 FP 14 FN 62 TP 23\n",
      "OOF precision 0.6216216216216216\n",
      "OOF recall 0.27058823529411763\n",
      "\n",
      "\n",
      "\n",
      "----------------------------------Running GridSearch; Iteration 4----------------------------------\n",
      "\n"
     ]
    },
    {
     "name": "stderr",
     "output_type": "stream",
     "text": [
      "/home/jupyter/HSE/OSDA/BigHW/framework/lazy_learning_framework.py:84: UserWarning: Boolean Series key will be reindexed to match DataFrame index.\n",
      "  frequent_zero_class = self._find_frequent_itemsets(X_train[Y_train == 0])\n",
      "/home/jupyter/HSE/OSDA/BigHW/framework/lazy_learning_framework.py:85: UserWarning: Boolean Series key will be reindexed to match DataFrame index.\n",
      "  frequent_one_class = self._find_frequent_itemsets(X_train[Y_train == 1])\n"
     ]
    },
    {
     "name": "stdout",
     "output_type": "stream",
     "text": [
      "Fold 0 Accuracy 0.8103448275862069\n"
     ]
    },
    {
     "name": "stderr",
     "output_type": "stream",
     "text": [
      "/home/jupyter/HSE/OSDA/BigHW/framework/lazy_learning_framework.py:84: UserWarning: Boolean Series key will be reindexed to match DataFrame index.\n",
      "  frequent_zero_class = self._find_frequent_itemsets(X_train[Y_train == 0])\n",
      "/home/jupyter/HSE/OSDA/BigHW/framework/lazy_learning_framework.py:85: UserWarning: Boolean Series key will be reindexed to match DataFrame index.\n",
      "  frequent_one_class = self._find_frequent_itemsets(X_train[Y_train == 1])\n"
     ]
    },
    {
     "name": "stdout",
     "output_type": "stream",
     "text": [
      "Fold 1 Accuracy 0.6491228070175439\n"
     ]
    },
    {
     "name": "stderr",
     "output_type": "stream",
     "text": [
      "/home/jupyter/HSE/OSDA/BigHW/framework/lazy_learning_framework.py:84: UserWarning: Boolean Series key will be reindexed to match DataFrame index.\n",
      "  frequent_zero_class = self._find_frequent_itemsets(X_train[Y_train == 0])\n",
      "/home/jupyter/HSE/OSDA/BigHW/framework/lazy_learning_framework.py:85: UserWarning: Boolean Series key will be reindexed to match DataFrame index.\n",
      "  frequent_one_class = self._find_frequent_itemsets(X_train[Y_train == 1])\n"
     ]
    },
    {
     "name": "stdout",
     "output_type": "stream",
     "text": [
      "Fold 2 Accuracy 0.6666666666666666\n"
     ]
    },
    {
     "name": "stderr",
     "output_type": "stream",
     "text": [
      "/home/jupyter/HSE/OSDA/BigHW/framework/lazy_learning_framework.py:84: UserWarning: Boolean Series key will be reindexed to match DataFrame index.\n",
      "  frequent_zero_class = self._find_frequent_itemsets(X_train[Y_train == 0])\n",
      "/home/jupyter/HSE/OSDA/BigHW/framework/lazy_learning_framework.py:85: UserWarning: Boolean Series key will be reindexed to match DataFrame index.\n",
      "  frequent_one_class = self._find_frequent_itemsets(X_train[Y_train == 1])\n"
     ]
    },
    {
     "name": "stdout",
     "output_type": "stream",
     "text": [
      "Fold 3 Accuracy 0.7543859649122807\n"
     ]
    },
    {
     "name": "stderr",
     "output_type": "stream",
     "text": [
      "/home/jupyter/HSE/OSDA/BigHW/framework/lazy_learning_framework.py:84: UserWarning: Boolean Series key will be reindexed to match DataFrame index.\n",
      "  frequent_zero_class = self._find_frequent_itemsets(X_train[Y_train == 0])\n",
      "/home/jupyter/HSE/OSDA/BigHW/framework/lazy_learning_framework.py:85: UserWarning: Boolean Series key will be reindexed to match DataFrame index.\n",
      "  frequent_one_class = self._find_frequent_itemsets(X_train[Y_train == 1])\n"
     ]
    },
    {
     "name": "stdout",
     "output_type": "stream",
     "text": [
      "Fold 4 Accuracy 0.6666666666666666\n",
      "\n",
      "\n",
      "\n",
      "\n",
      "OOF accuracy 0.7097902097902098\n",
      "TN 154 FP 47 FN 36 TP 49\n",
      "OOF precision 0.5104166666666666\n",
      "OOF recall 0.27058823529411763\n",
      "\n",
      "\n",
      "\n",
      "----------------------------------Running GridSearch; Iteration 5----------------------------------\n",
      "\n"
     ]
    },
    {
     "name": "stderr",
     "output_type": "stream",
     "text": [
      "/home/jupyter/HSE/OSDA/BigHW/framework/lazy_learning_framework.py:125: UserWarning: Boolean Series key will be reindexed to match DataFrame index.\n",
      "  frequent_zero_class = self._find_frequent_itemsets(X_train[Y_train == 0])\n",
      "/home/jupyter/HSE/OSDA/BigHW/framework/lazy_learning_framework.py:126: UserWarning: Boolean Series key will be reindexed to match DataFrame index.\n",
      "  frequent_one_class = self._find_frequent_itemsets(X_train[Y_train == 1])\n"
     ]
    },
    {
     "name": "stdout",
     "output_type": "stream",
     "text": [
      "Fold 0 Accuracy 0.7586206896551724\n"
     ]
    },
    {
     "name": "stderr",
     "output_type": "stream",
     "text": [
      "/home/jupyter/HSE/OSDA/BigHW/framework/lazy_learning_framework.py:125: UserWarning: Boolean Series key will be reindexed to match DataFrame index.\n",
      "  frequent_zero_class = self._find_frequent_itemsets(X_train[Y_train == 0])\n",
      "/home/jupyter/HSE/OSDA/BigHW/framework/lazy_learning_framework.py:126: UserWarning: Boolean Series key will be reindexed to match DataFrame index.\n",
      "  frequent_one_class = self._find_frequent_itemsets(X_train[Y_train == 1])\n"
     ]
    },
    {
     "name": "stdout",
     "output_type": "stream",
     "text": [
      "Fold 1 Accuracy 0.5964912280701754\n"
     ]
    },
    {
     "name": "stderr",
     "output_type": "stream",
     "text": [
      "/home/jupyter/HSE/OSDA/BigHW/framework/lazy_learning_framework.py:125: UserWarning: Boolean Series key will be reindexed to match DataFrame index.\n",
      "  frequent_zero_class = self._find_frequent_itemsets(X_train[Y_train == 0])\n",
      "/home/jupyter/HSE/OSDA/BigHW/framework/lazy_learning_framework.py:126: UserWarning: Boolean Series key will be reindexed to match DataFrame index.\n",
      "  frequent_one_class = self._find_frequent_itemsets(X_train[Y_train == 1])\n"
     ]
    },
    {
     "name": "stdout",
     "output_type": "stream",
     "text": [
      "Fold 2 Accuracy 0.7368421052631579\n"
     ]
    },
    {
     "name": "stderr",
     "output_type": "stream",
     "text": [
      "/home/jupyter/HSE/OSDA/BigHW/framework/lazy_learning_framework.py:125: UserWarning: Boolean Series key will be reindexed to match DataFrame index.\n",
      "  frequent_zero_class = self._find_frequent_itemsets(X_train[Y_train == 0])\n",
      "/home/jupyter/HSE/OSDA/BigHW/framework/lazy_learning_framework.py:126: UserWarning: Boolean Series key will be reindexed to match DataFrame index.\n",
      "  frequent_one_class = self._find_frequent_itemsets(X_train[Y_train == 1])\n"
     ]
    },
    {
     "name": "stdout",
     "output_type": "stream",
     "text": [
      "Fold 3 Accuracy 0.7543859649122807\n"
     ]
    },
    {
     "name": "stderr",
     "output_type": "stream",
     "text": [
      "/home/jupyter/HSE/OSDA/BigHW/framework/lazy_learning_framework.py:125: UserWarning: Boolean Series key will be reindexed to match DataFrame index.\n",
      "  frequent_zero_class = self._find_frequent_itemsets(X_train[Y_train == 0])\n",
      "/home/jupyter/HSE/OSDA/BigHW/framework/lazy_learning_framework.py:126: UserWarning: Boolean Series key will be reindexed to match DataFrame index.\n",
      "  frequent_one_class = self._find_frequent_itemsets(X_train[Y_train == 1])\n"
     ]
    },
    {
     "name": "stdout",
     "output_type": "stream",
     "text": [
      "Fold 4 Accuracy 0.8245614035087719\n",
      "\n",
      "\n",
      "\n",
      "\n",
      "OOF accuracy 0.7342657342657343\n",
      "TN 188 FP 13 FN 63 TP 22\n",
      "OOF precision 0.6285714285714286\n",
      "OOF recall 0.27058823529411763\n",
      "\n",
      "\n",
      "\n",
      "----------------------------------Running GridSearch; Iteration 6----------------------------------\n",
      "\n"
     ]
    },
    {
     "name": "stderr",
     "output_type": "stream",
     "text": [
      "/home/jupyter/HSE/OSDA/BigHW/framework/lazy_learning_framework.py:84: UserWarning: Boolean Series key will be reindexed to match DataFrame index.\n",
      "  frequent_zero_class = self._find_frequent_itemsets(X_train[Y_train == 0])\n",
      "/home/jupyter/HSE/OSDA/BigHW/framework/lazy_learning_framework.py:85: UserWarning: Boolean Series key will be reindexed to match DataFrame index.\n",
      "  frequent_one_class = self._find_frequent_itemsets(X_train[Y_train == 1])\n"
     ]
    },
    {
     "name": "stdout",
     "output_type": "stream",
     "text": [
      "Fold 0 Accuracy 0.8103448275862069\n"
     ]
    },
    {
     "name": "stderr",
     "output_type": "stream",
     "text": [
      "/home/jupyter/HSE/OSDA/BigHW/framework/lazy_learning_framework.py:84: UserWarning: Boolean Series key will be reindexed to match DataFrame index.\n",
      "  frequent_zero_class = self._find_frequent_itemsets(X_train[Y_train == 0])\n",
      "/home/jupyter/HSE/OSDA/BigHW/framework/lazy_learning_framework.py:85: UserWarning: Boolean Series key will be reindexed to match DataFrame index.\n",
      "  frequent_one_class = self._find_frequent_itemsets(X_train[Y_train == 1])\n"
     ]
    },
    {
     "name": "stdout",
     "output_type": "stream",
     "text": [
      "Fold 1 Accuracy 0.6491228070175439\n"
     ]
    },
    {
     "name": "stderr",
     "output_type": "stream",
     "text": [
      "/home/jupyter/HSE/OSDA/BigHW/framework/lazy_learning_framework.py:84: UserWarning: Boolean Series key will be reindexed to match DataFrame index.\n",
      "  frequent_zero_class = self._find_frequent_itemsets(X_train[Y_train == 0])\n",
      "/home/jupyter/HSE/OSDA/BigHW/framework/lazy_learning_framework.py:85: UserWarning: Boolean Series key will be reindexed to match DataFrame index.\n",
      "  frequent_one_class = self._find_frequent_itemsets(X_train[Y_train == 1])\n"
     ]
    },
    {
     "name": "stdout",
     "output_type": "stream",
     "text": [
      "Fold 2 Accuracy 0.6666666666666666\n"
     ]
    },
    {
     "name": "stderr",
     "output_type": "stream",
     "text": [
      "/home/jupyter/HSE/OSDA/BigHW/framework/lazy_learning_framework.py:84: UserWarning: Boolean Series key will be reindexed to match DataFrame index.\n",
      "  frequent_zero_class = self._find_frequent_itemsets(X_train[Y_train == 0])\n",
      "/home/jupyter/HSE/OSDA/BigHW/framework/lazy_learning_framework.py:85: UserWarning: Boolean Series key will be reindexed to match DataFrame index.\n",
      "  frequent_one_class = self._find_frequent_itemsets(X_train[Y_train == 1])\n"
     ]
    },
    {
     "name": "stdout",
     "output_type": "stream",
     "text": [
      "Fold 3 Accuracy 0.7543859649122807\n"
     ]
    },
    {
     "name": "stderr",
     "output_type": "stream",
     "text": [
      "/home/jupyter/HSE/OSDA/BigHW/framework/lazy_learning_framework.py:84: UserWarning: Boolean Series key will be reindexed to match DataFrame index.\n",
      "  frequent_zero_class = self._find_frequent_itemsets(X_train[Y_train == 0])\n",
      "/home/jupyter/HSE/OSDA/BigHW/framework/lazy_learning_framework.py:85: UserWarning: Boolean Series key will be reindexed to match DataFrame index.\n",
      "  frequent_one_class = self._find_frequent_itemsets(X_train[Y_train == 1])\n"
     ]
    },
    {
     "name": "stdout",
     "output_type": "stream",
     "text": [
      "Fold 4 Accuracy 0.6666666666666666\n",
      "\n",
      "\n",
      "\n",
      "\n",
      "OOF accuracy 0.7097902097902098\n",
      "TN 154 FP 47 FN 36 TP 49\n",
      "OOF precision 0.5104166666666666\n",
      "OOF recall 0.27058823529411763\n",
      "\n",
      "\n",
      "\n",
      "----------------------------------Running GridSearch; Iteration 7----------------------------------\n",
      "\n"
     ]
    },
    {
     "name": "stderr",
     "output_type": "stream",
     "text": [
      "/home/jupyter/HSE/OSDA/BigHW/framework/lazy_learning_framework.py:125: UserWarning: Boolean Series key will be reindexed to match DataFrame index.\n",
      "  frequent_zero_class = self._find_frequent_itemsets(X_train[Y_train == 0])\n",
      "/home/jupyter/HSE/OSDA/BigHW/framework/lazy_learning_framework.py:126: UserWarning: Boolean Series key will be reindexed to match DataFrame index.\n",
      "  frequent_one_class = self._find_frequent_itemsets(X_train[Y_train == 1])\n"
     ]
    },
    {
     "name": "stdout",
     "output_type": "stream",
     "text": [
      "Fold 0 Accuracy 0.7586206896551724\n"
     ]
    },
    {
     "name": "stderr",
     "output_type": "stream",
     "text": [
      "/home/jupyter/HSE/OSDA/BigHW/framework/lazy_learning_framework.py:125: UserWarning: Boolean Series key will be reindexed to match DataFrame index.\n",
      "  frequent_zero_class = self._find_frequent_itemsets(X_train[Y_train == 0])\n",
      "/home/jupyter/HSE/OSDA/BigHW/framework/lazy_learning_framework.py:126: UserWarning: Boolean Series key will be reindexed to match DataFrame index.\n",
      "  frequent_one_class = self._find_frequent_itemsets(X_train[Y_train == 1])\n"
     ]
    },
    {
     "name": "stdout",
     "output_type": "stream",
     "text": [
      "Fold 1 Accuracy 0.6140350877192983\n"
     ]
    },
    {
     "name": "stderr",
     "output_type": "stream",
     "text": [
      "/home/jupyter/HSE/OSDA/BigHW/framework/lazy_learning_framework.py:125: UserWarning: Boolean Series key will be reindexed to match DataFrame index.\n",
      "  frequent_zero_class = self._find_frequent_itemsets(X_train[Y_train == 0])\n",
      "/home/jupyter/HSE/OSDA/BigHW/framework/lazy_learning_framework.py:126: UserWarning: Boolean Series key will be reindexed to match DataFrame index.\n",
      "  frequent_one_class = self._find_frequent_itemsets(X_train[Y_train == 1])\n"
     ]
    },
    {
     "name": "stdout",
     "output_type": "stream",
     "text": [
      "Fold 2 Accuracy 0.7368421052631579\n"
     ]
    },
    {
     "name": "stderr",
     "output_type": "stream",
     "text": [
      "/home/jupyter/HSE/OSDA/BigHW/framework/lazy_learning_framework.py:125: UserWarning: Boolean Series key will be reindexed to match DataFrame index.\n",
      "  frequent_zero_class = self._find_frequent_itemsets(X_train[Y_train == 0])\n",
      "/home/jupyter/HSE/OSDA/BigHW/framework/lazy_learning_framework.py:126: UserWarning: Boolean Series key will be reindexed to match DataFrame index.\n",
      "  frequent_one_class = self._find_frequent_itemsets(X_train[Y_train == 1])\n"
     ]
    },
    {
     "name": "stdout",
     "output_type": "stream",
     "text": [
      "Fold 3 Accuracy 0.7543859649122807\n"
     ]
    },
    {
     "name": "stderr",
     "output_type": "stream",
     "text": [
      "/home/jupyter/HSE/OSDA/BigHW/framework/lazy_learning_framework.py:125: UserWarning: Boolean Series key will be reindexed to match DataFrame index.\n",
      "  frequent_zero_class = self._find_frequent_itemsets(X_train[Y_train == 0])\n",
      "/home/jupyter/HSE/OSDA/BigHW/framework/lazy_learning_framework.py:126: UserWarning: Boolean Series key will be reindexed to match DataFrame index.\n",
      "  frequent_one_class = self._find_frequent_itemsets(X_train[Y_train == 1])\n"
     ]
    },
    {
     "name": "stdout",
     "output_type": "stream",
     "text": [
      "Fold 4 Accuracy 0.8245614035087719\n",
      "\n",
      "\n",
      "\n",
      "\n",
      "OOF accuracy 0.7377622377622378\n",
      "TN 188 FP 13 FN 62 TP 23\n",
      "OOF precision 0.6388888888888888\n",
      "OOF recall 0.27058823529411763\n",
      "\n",
      "\n",
      "\n",
      "----------------------------------Running GridSearch; Iteration 8----------------------------------\n",
      "\n",
      "Fold 0 Accuracy 0.7413793103448276\n",
      "Fold 1 Accuracy 0.5964912280701754\n",
      "Fold 2 Accuracy 0.6842105263157895\n",
      "Fold 3 Accuracy 0.7894736842105263\n",
      "Fold 4 Accuracy 0.7192982456140351\n",
      "\n",
      "\n",
      "\n",
      "\n",
      "OOF accuracy 0.7062937062937062\n",
      "TN 168 FP 33 FN 51 TP 34\n",
      "OOF precision 0.5074626865671642\n",
      "OOF recall 0.27058823529411763\n",
      "\n",
      "\n",
      "\n",
      "----------------------------------Running GridSearch; Iteration 9----------------------------------\n",
      "\n",
      "Fold 0 Accuracy 0.7586206896551724\n",
      "Fold 1 Accuracy 0.6140350877192983\n",
      "Fold 2 Accuracy 0.7543859649122807\n",
      "Fold 3 Accuracy 0.7543859649122807\n",
      "Fold 4 Accuracy 0.7894736842105263\n",
      "\n",
      "\n",
      "\n",
      "\n",
      "OOF accuracy 0.7342657342657343\n",
      "TN 198 FP 3 FN 73 TP 12\n",
      "OOF precision 0.8\n",
      "OOF recall 0.27058823529411763\n",
      "\n",
      "\n",
      "\n",
      "----------------------------------Running GridSearch; Iteration 10----------------------------------\n",
      "\n",
      "Fold 0 Accuracy 0.7413793103448276\n",
      "Fold 1 Accuracy 0.5964912280701754\n",
      "Fold 2 Accuracy 0.6842105263157895\n",
      "Fold 3 Accuracy 0.7894736842105263\n",
      "Fold 4 Accuracy 0.7192982456140351\n",
      "\n",
      "\n",
      "\n",
      "\n",
      "OOF accuracy 0.7062937062937062\n",
      "TN 168 FP 33 FN 51 TP 34\n",
      "OOF precision 0.5074626865671642\n",
      "OOF recall 0.27058823529411763\n",
      "\n",
      "\n",
      "\n",
      "----------------------------------Running GridSearch; Iteration 11----------------------------------\n",
      "\n",
      "Fold 0 Accuracy 0.7586206896551724\n",
      "Fold 1 Accuracy 0.6140350877192983\n",
      "Fold 2 Accuracy 0.7543859649122807\n",
      "Fold 3 Accuracy 0.7543859649122807\n",
      "Fold 4 Accuracy 0.7894736842105263\n",
      "\n",
      "\n",
      "\n",
      "\n",
      "OOF accuracy 0.7342657342657343\n",
      "TN 198 FP 3 FN 73 TP 12\n",
      "OOF precision 0.8\n",
      "OOF recall 0.27058823529411763\n",
      "\n",
      "\n",
      "\n",
      "----------------------------------Running GridSearch; Iteration 12----------------------------------\n",
      "\n"
     ]
    },
    {
     "name": "stderr",
     "output_type": "stream",
     "text": [
      "/home/jupyter/HSE/OSDA/BigHW/framework/lazy_learning_framework.py:84: UserWarning: Boolean Series key will be reindexed to match DataFrame index.\n",
      "  frequent_zero_class = self._find_frequent_itemsets(X_train[Y_train == 0])\n",
      "/home/jupyter/HSE/OSDA/BigHW/framework/lazy_learning_framework.py:85: UserWarning: Boolean Series key will be reindexed to match DataFrame index.\n",
      "  frequent_one_class = self._find_frequent_itemsets(X_train[Y_train == 1])\n"
     ]
    },
    {
     "name": "stdout",
     "output_type": "stream",
     "text": [
      "Fold 0 Accuracy 0.7413793103448276\n"
     ]
    },
    {
     "name": "stderr",
     "output_type": "stream",
     "text": [
      "/home/jupyter/HSE/OSDA/BigHW/framework/lazy_learning_framework.py:84: UserWarning: Boolean Series key will be reindexed to match DataFrame index.\n",
      "  frequent_zero_class = self._find_frequent_itemsets(X_train[Y_train == 0])\n",
      "/home/jupyter/HSE/OSDA/BigHW/framework/lazy_learning_framework.py:85: UserWarning: Boolean Series key will be reindexed to match DataFrame index.\n",
      "  frequent_one_class = self._find_frequent_itemsets(X_train[Y_train == 1])\n"
     ]
    },
    {
     "name": "stdout",
     "output_type": "stream",
     "text": [
      "Fold 1 Accuracy 0.5964912280701754\n"
     ]
    },
    {
     "name": "stderr",
     "output_type": "stream",
     "text": [
      "/home/jupyter/HSE/OSDA/BigHW/framework/lazy_learning_framework.py:84: UserWarning: Boolean Series key will be reindexed to match DataFrame index.\n",
      "  frequent_zero_class = self._find_frequent_itemsets(X_train[Y_train == 0])\n",
      "/home/jupyter/HSE/OSDA/BigHW/framework/lazy_learning_framework.py:85: UserWarning: Boolean Series key will be reindexed to match DataFrame index.\n",
      "  frequent_one_class = self._find_frequent_itemsets(X_train[Y_train == 1])\n"
     ]
    },
    {
     "name": "stdout",
     "output_type": "stream",
     "text": [
      "Fold 2 Accuracy 0.6842105263157895\n"
     ]
    },
    {
     "name": "stderr",
     "output_type": "stream",
     "text": [
      "/home/jupyter/HSE/OSDA/BigHW/framework/lazy_learning_framework.py:84: UserWarning: Boolean Series key will be reindexed to match DataFrame index.\n",
      "  frequent_zero_class = self._find_frequent_itemsets(X_train[Y_train == 0])\n",
      "/home/jupyter/HSE/OSDA/BigHW/framework/lazy_learning_framework.py:85: UserWarning: Boolean Series key will be reindexed to match DataFrame index.\n",
      "  frequent_one_class = self._find_frequent_itemsets(X_train[Y_train == 1])\n"
     ]
    },
    {
     "name": "stdout",
     "output_type": "stream",
     "text": [
      "Fold 3 Accuracy 0.7894736842105263\n"
     ]
    },
    {
     "name": "stderr",
     "output_type": "stream",
     "text": [
      "/home/jupyter/HSE/OSDA/BigHW/framework/lazy_learning_framework.py:84: UserWarning: Boolean Series key will be reindexed to match DataFrame index.\n",
      "  frequent_zero_class = self._find_frequent_itemsets(X_train[Y_train == 0])\n",
      "/home/jupyter/HSE/OSDA/BigHW/framework/lazy_learning_framework.py:85: UserWarning: Boolean Series key will be reindexed to match DataFrame index.\n",
      "  frequent_one_class = self._find_frequent_itemsets(X_train[Y_train == 1])\n"
     ]
    },
    {
     "name": "stdout",
     "output_type": "stream",
     "text": [
      "Fold 4 Accuracy 0.7543859649122807\n",
      "\n",
      "\n",
      "\n",
      "\n",
      "OOF accuracy 0.7132867132867133\n",
      "TN 170 FP 31 FN 51 TP 34\n",
      "OOF precision 0.5230769230769231\n",
      "OOF recall 0.27058823529411763\n",
      "\n",
      "\n",
      "\n",
      "----------------------------------Running GridSearch; Iteration 13----------------------------------\n",
      "\n"
     ]
    },
    {
     "name": "stderr",
     "output_type": "stream",
     "text": [
      "/home/jupyter/HSE/OSDA/BigHW/framework/lazy_learning_framework.py:125: UserWarning: Boolean Series key will be reindexed to match DataFrame index.\n",
      "  frequent_zero_class = self._find_frequent_itemsets(X_train[Y_train == 0])\n",
      "/home/jupyter/HSE/OSDA/BigHW/framework/lazy_learning_framework.py:126: UserWarning: Boolean Series key will be reindexed to match DataFrame index.\n",
      "  frequent_one_class = self._find_frequent_itemsets(X_train[Y_train == 1])\n"
     ]
    },
    {
     "name": "stdout",
     "output_type": "stream",
     "text": [
      "Fold 0 Accuracy 0.7758620689655172\n"
     ]
    },
    {
     "name": "stderr",
     "output_type": "stream",
     "text": [
      "/home/jupyter/HSE/OSDA/BigHW/framework/lazy_learning_framework.py:125: UserWarning: Boolean Series key will be reindexed to match DataFrame index.\n",
      "  frequent_zero_class = self._find_frequent_itemsets(X_train[Y_train == 0])\n",
      "/home/jupyter/HSE/OSDA/BigHW/framework/lazy_learning_framework.py:126: UserWarning: Boolean Series key will be reindexed to match DataFrame index.\n",
      "  frequent_one_class = self._find_frequent_itemsets(X_train[Y_train == 1])\n"
     ]
    },
    {
     "name": "stdout",
     "output_type": "stream",
     "text": [
      "Fold 1 Accuracy 0.6140350877192983\n"
     ]
    },
    {
     "name": "stderr",
     "output_type": "stream",
     "text": [
      "/home/jupyter/HSE/OSDA/BigHW/framework/lazy_learning_framework.py:125: UserWarning: Boolean Series key will be reindexed to match DataFrame index.\n",
      "  frequent_zero_class = self._find_frequent_itemsets(X_train[Y_train == 0])\n",
      "/home/jupyter/HSE/OSDA/BigHW/framework/lazy_learning_framework.py:126: UserWarning: Boolean Series key will be reindexed to match DataFrame index.\n",
      "  frequent_one_class = self._find_frequent_itemsets(X_train[Y_train == 1])\n"
     ]
    },
    {
     "name": "stdout",
     "output_type": "stream",
     "text": [
      "Fold 2 Accuracy 0.7543859649122807\n"
     ]
    },
    {
     "name": "stderr",
     "output_type": "stream",
     "text": [
      "/home/jupyter/HSE/OSDA/BigHW/framework/lazy_learning_framework.py:125: UserWarning: Boolean Series key will be reindexed to match DataFrame index.\n",
      "  frequent_zero_class = self._find_frequent_itemsets(X_train[Y_train == 0])\n",
      "/home/jupyter/HSE/OSDA/BigHW/framework/lazy_learning_framework.py:126: UserWarning: Boolean Series key will be reindexed to match DataFrame index.\n",
      "  frequent_one_class = self._find_frequent_itemsets(X_train[Y_train == 1])\n"
     ]
    },
    {
     "name": "stdout",
     "output_type": "stream",
     "text": [
      "Fold 3 Accuracy 0.7894736842105263\n"
     ]
    },
    {
     "name": "stderr",
     "output_type": "stream",
     "text": [
      "/home/jupyter/HSE/OSDA/BigHW/framework/lazy_learning_framework.py:125: UserWarning: Boolean Series key will be reindexed to match DataFrame index.\n",
      "  frequent_zero_class = self._find_frequent_itemsets(X_train[Y_train == 0])\n",
      "/home/jupyter/HSE/OSDA/BigHW/framework/lazy_learning_framework.py:126: UserWarning: Boolean Series key will be reindexed to match DataFrame index.\n",
      "  frequent_one_class = self._find_frequent_itemsets(X_train[Y_train == 1])\n"
     ]
    },
    {
     "name": "stdout",
     "output_type": "stream",
     "text": [
      "Fold 4 Accuracy 0.7894736842105263\n",
      "\n",
      "\n",
      "\n",
      "\n",
      "OOF accuracy 0.7447552447552448\n",
      "TN 199 FP 2 FN 71 TP 14\n",
      "OOF precision 0.875\n",
      "OOF recall 0.27058823529411763\n",
      "\n",
      "\n",
      "\n",
      "----------------------------------Running GridSearch; Iteration 14----------------------------------\n",
      "\n"
     ]
    },
    {
     "name": "stderr",
     "output_type": "stream",
     "text": [
      "/home/jupyter/HSE/OSDA/BigHW/framework/lazy_learning_framework.py:84: UserWarning: Boolean Series key will be reindexed to match DataFrame index.\n",
      "  frequent_zero_class = self._find_frequent_itemsets(X_train[Y_train == 0])\n",
      "/home/jupyter/HSE/OSDA/BigHW/framework/lazy_learning_framework.py:85: UserWarning: Boolean Series key will be reindexed to match DataFrame index.\n",
      "  frequent_one_class = self._find_frequent_itemsets(X_train[Y_train == 1])\n"
     ]
    },
    {
     "name": "stdout",
     "output_type": "stream",
     "text": [
      "Fold 0 Accuracy 0.7413793103448276\n"
     ]
    },
    {
     "name": "stderr",
     "output_type": "stream",
     "text": [
      "/home/jupyter/HSE/OSDA/BigHW/framework/lazy_learning_framework.py:84: UserWarning: Boolean Series key will be reindexed to match DataFrame index.\n",
      "  frequent_zero_class = self._find_frequent_itemsets(X_train[Y_train == 0])\n",
      "/home/jupyter/HSE/OSDA/BigHW/framework/lazy_learning_framework.py:85: UserWarning: Boolean Series key will be reindexed to match DataFrame index.\n",
      "  frequent_one_class = self._find_frequent_itemsets(X_train[Y_train == 1])\n"
     ]
    },
    {
     "name": "stdout",
     "output_type": "stream",
     "text": [
      "Fold 1 Accuracy 0.5964912280701754\n"
     ]
    },
    {
     "name": "stderr",
     "output_type": "stream",
     "text": [
      "/home/jupyter/HSE/OSDA/BigHW/framework/lazy_learning_framework.py:84: UserWarning: Boolean Series key will be reindexed to match DataFrame index.\n",
      "  frequent_zero_class = self._find_frequent_itemsets(X_train[Y_train == 0])\n",
      "/home/jupyter/HSE/OSDA/BigHW/framework/lazy_learning_framework.py:85: UserWarning: Boolean Series key will be reindexed to match DataFrame index.\n",
      "  frequent_one_class = self._find_frequent_itemsets(X_train[Y_train == 1])\n"
     ]
    },
    {
     "name": "stdout",
     "output_type": "stream",
     "text": [
      "Fold 2 Accuracy 0.6842105263157895\n"
     ]
    },
    {
     "name": "stderr",
     "output_type": "stream",
     "text": [
      "/home/jupyter/HSE/OSDA/BigHW/framework/lazy_learning_framework.py:84: UserWarning: Boolean Series key will be reindexed to match DataFrame index.\n",
      "  frequent_zero_class = self._find_frequent_itemsets(X_train[Y_train == 0])\n",
      "/home/jupyter/HSE/OSDA/BigHW/framework/lazy_learning_framework.py:85: UserWarning: Boolean Series key will be reindexed to match DataFrame index.\n",
      "  frequent_one_class = self._find_frequent_itemsets(X_train[Y_train == 1])\n"
     ]
    },
    {
     "name": "stdout",
     "output_type": "stream",
     "text": [
      "Fold 3 Accuracy 0.7894736842105263\n"
     ]
    },
    {
     "name": "stderr",
     "output_type": "stream",
     "text": [
      "/home/jupyter/HSE/OSDA/BigHW/framework/lazy_learning_framework.py:84: UserWarning: Boolean Series key will be reindexed to match DataFrame index.\n",
      "  frequent_zero_class = self._find_frequent_itemsets(X_train[Y_train == 0])\n",
      "/home/jupyter/HSE/OSDA/BigHW/framework/lazy_learning_framework.py:85: UserWarning: Boolean Series key will be reindexed to match DataFrame index.\n",
      "  frequent_one_class = self._find_frequent_itemsets(X_train[Y_train == 1])\n"
     ]
    },
    {
     "name": "stdout",
     "output_type": "stream",
     "text": [
      "Fold 4 Accuracy 0.7543859649122807\n",
      "\n",
      "\n",
      "\n",
      "\n",
      "OOF accuracy 0.7132867132867133\n",
      "TN 170 FP 31 FN 51 TP 34\n",
      "OOF precision 0.5230769230769231\n",
      "OOF recall 0.27058823529411763\n",
      "\n",
      "\n",
      "\n",
      "----------------------------------Running GridSearch; Iteration 15----------------------------------\n",
      "\n"
     ]
    },
    {
     "name": "stderr",
     "output_type": "stream",
     "text": [
      "/home/jupyter/HSE/OSDA/BigHW/framework/lazy_learning_framework.py:125: UserWarning: Boolean Series key will be reindexed to match DataFrame index.\n",
      "  frequent_zero_class = self._find_frequent_itemsets(X_train[Y_train == 0])\n",
      "/home/jupyter/HSE/OSDA/BigHW/framework/lazy_learning_framework.py:126: UserWarning: Boolean Series key will be reindexed to match DataFrame index.\n",
      "  frequent_one_class = self._find_frequent_itemsets(X_train[Y_train == 1])\n"
     ]
    },
    {
     "name": "stdout",
     "output_type": "stream",
     "text": [
      "Fold 0 Accuracy 0.7758620689655172\n"
     ]
    },
    {
     "name": "stderr",
     "output_type": "stream",
     "text": [
      "/home/jupyter/HSE/OSDA/BigHW/framework/lazy_learning_framework.py:125: UserWarning: Boolean Series key will be reindexed to match DataFrame index.\n",
      "  frequent_zero_class = self._find_frequent_itemsets(X_train[Y_train == 0])\n",
      "/home/jupyter/HSE/OSDA/BigHW/framework/lazy_learning_framework.py:126: UserWarning: Boolean Series key will be reindexed to match DataFrame index.\n",
      "  frequent_one_class = self._find_frequent_itemsets(X_train[Y_train == 1])\n"
     ]
    },
    {
     "name": "stdout",
     "output_type": "stream",
     "text": [
      "Fold 1 Accuracy 0.6140350877192983\n"
     ]
    },
    {
     "name": "stderr",
     "output_type": "stream",
     "text": [
      "/home/jupyter/HSE/OSDA/BigHW/framework/lazy_learning_framework.py:125: UserWarning: Boolean Series key will be reindexed to match DataFrame index.\n",
      "  frequent_zero_class = self._find_frequent_itemsets(X_train[Y_train == 0])\n",
      "/home/jupyter/HSE/OSDA/BigHW/framework/lazy_learning_framework.py:126: UserWarning: Boolean Series key will be reindexed to match DataFrame index.\n",
      "  frequent_one_class = self._find_frequent_itemsets(X_train[Y_train == 1])\n"
     ]
    },
    {
     "name": "stdout",
     "output_type": "stream",
     "text": [
      "Fold 2 Accuracy 0.7543859649122807\n"
     ]
    },
    {
     "name": "stderr",
     "output_type": "stream",
     "text": [
      "/home/jupyter/HSE/OSDA/BigHW/framework/lazy_learning_framework.py:125: UserWarning: Boolean Series key will be reindexed to match DataFrame index.\n",
      "  frequent_zero_class = self._find_frequent_itemsets(X_train[Y_train == 0])\n",
      "/home/jupyter/HSE/OSDA/BigHW/framework/lazy_learning_framework.py:126: UserWarning: Boolean Series key will be reindexed to match DataFrame index.\n",
      "  frequent_one_class = self._find_frequent_itemsets(X_train[Y_train == 1])\n"
     ]
    },
    {
     "name": "stdout",
     "output_type": "stream",
     "text": [
      "Fold 3 Accuracy 0.7894736842105263\n"
     ]
    },
    {
     "name": "stderr",
     "output_type": "stream",
     "text": [
      "/home/jupyter/HSE/OSDA/BigHW/framework/lazy_learning_framework.py:125: UserWarning: Boolean Series key will be reindexed to match DataFrame index.\n",
      "  frequent_zero_class = self._find_frequent_itemsets(X_train[Y_train == 0])\n",
      "/home/jupyter/HSE/OSDA/BigHW/framework/lazy_learning_framework.py:126: UserWarning: Boolean Series key will be reindexed to match DataFrame index.\n",
      "  frequent_one_class = self._find_frequent_itemsets(X_train[Y_train == 1])\n"
     ]
    },
    {
     "name": "stdout",
     "output_type": "stream",
     "text": [
      "Fold 4 Accuracy 0.7894736842105263\n",
      "\n",
      "\n",
      "\n",
      "\n",
      "OOF accuracy 0.7447552447552448\n",
      "TN 199 FP 2 FN 71 TP 14\n",
      "OOF precision 0.875\n",
      "OOF recall 0.27058823529411763\n",
      "\n",
      "\n",
      "\n",
      "----------------------------------Running GridSearch; Iteration 16----------------------------------\n",
      "\n",
      "Fold 0 Accuracy 0.43103448275862066\n",
      "Fold 1 Accuracy 0.5263157894736842\n",
      "Fold 2 Accuracy 0.7368421052631579\n",
      "Fold 3 Accuracy 0.5789473684210527\n",
      "Fold 4 Accuracy 0.8245614035087719\n",
      "\n",
      "\n",
      "\n",
      "\n",
      "OOF accuracy 0.6188811188811189\n",
      "TN 136 FP 65 FN 44 TP 41\n",
      "OOF precision 0.3867924528301887\n",
      "OOF recall 0.27058823529411763\n",
      "\n",
      "\n",
      "\n",
      "----------------------------------Running GridSearch; Iteration 17----------------------------------\n",
      "\n",
      "Fold 0 Accuracy 0.603448275862069\n",
      "Fold 1 Accuracy 0.5789473684210527\n",
      "Fold 2 Accuracy 0.7543859649122807\n",
      "Fold 3 Accuracy 0.7719298245614035\n",
      "Fold 4 Accuracy 0.7894736842105263\n",
      "\n",
      "\n",
      "\n",
      "\n",
      "OOF accuracy 0.6993006993006993\n",
      "TN 181 FP 20 FN 66 TP 19\n",
      "OOF precision 0.48717948717948717\n",
      "OOF recall 0.27058823529411763\n",
      "\n",
      "\n",
      "\n",
      "----------------------------------Running GridSearch; Iteration 18----------------------------------\n",
      "\n",
      "Fold 0 Accuracy 0.43103448275862066\n",
      "Fold 1 Accuracy 0.5263157894736842\n",
      "Fold 2 Accuracy 0.7368421052631579\n",
      "Fold 3 Accuracy 0.5789473684210527\n",
      "Fold 4 Accuracy 0.8245614035087719\n",
      "\n",
      "\n",
      "\n",
      "\n",
      "OOF accuracy 0.6188811188811189\n",
      "TN 136 FP 65 FN 44 TP 41\n",
      "OOF precision 0.3867924528301887\n",
      "OOF recall 0.27058823529411763\n",
      "\n",
      "\n",
      "\n",
      "----------------------------------Running GridSearch; Iteration 19----------------------------------\n",
      "\n",
      "Fold 0 Accuracy 0.603448275862069\n",
      "Fold 1 Accuracy 0.5789473684210527\n",
      "Fold 2 Accuracy 0.7543859649122807\n",
      "Fold 3 Accuracy 0.7719298245614035\n",
      "Fold 4 Accuracy 0.7894736842105263\n",
      "\n",
      "\n",
      "\n",
      "\n",
      "OOF accuracy 0.6993006993006993\n",
      "TN 181 FP 20 FN 66 TP 19\n",
      "OOF precision 0.48717948717948717\n",
      "OOF recall 0.27058823529411763\n",
      "\n",
      "\n",
      "\n",
      "----------------------------------Running GridSearch; Iteration 20----------------------------------\n",
      "\n"
     ]
    },
    {
     "name": "stderr",
     "output_type": "stream",
     "text": [
      "/home/jupyter/HSE/OSDA/BigHW/framework/lazy_learning_framework.py:84: UserWarning: Boolean Series key will be reindexed to match DataFrame index.\n",
      "  frequent_zero_class = self._find_frequent_itemsets(X_train[Y_train == 0])\n",
      "/home/jupyter/HSE/OSDA/BigHW/framework/lazy_learning_framework.py:85: UserWarning: Boolean Series key will be reindexed to match DataFrame index.\n",
      "  frequent_one_class = self._find_frequent_itemsets(X_train[Y_train == 1])\n"
     ]
    },
    {
     "name": "stdout",
     "output_type": "stream",
     "text": [
      "Fold 0 Accuracy 0.43103448275862066\n"
     ]
    },
    {
     "name": "stderr",
     "output_type": "stream",
     "text": [
      "/home/jupyter/HSE/OSDA/BigHW/framework/lazy_learning_framework.py:84: UserWarning: Boolean Series key will be reindexed to match DataFrame index.\n",
      "  frequent_zero_class = self._find_frequent_itemsets(X_train[Y_train == 0])\n",
      "/home/jupyter/HSE/OSDA/BigHW/framework/lazy_learning_framework.py:85: UserWarning: Boolean Series key will be reindexed to match DataFrame index.\n",
      "  frequent_one_class = self._find_frequent_itemsets(X_train[Y_train == 1])\n"
     ]
    },
    {
     "name": "stdout",
     "output_type": "stream",
     "text": [
      "Fold 1 Accuracy 0.5263157894736842\n"
     ]
    },
    {
     "name": "stderr",
     "output_type": "stream",
     "text": [
      "/home/jupyter/HSE/OSDA/BigHW/framework/lazy_learning_framework.py:84: UserWarning: Boolean Series key will be reindexed to match DataFrame index.\n",
      "  frequent_zero_class = self._find_frequent_itemsets(X_train[Y_train == 0])\n",
      "/home/jupyter/HSE/OSDA/BigHW/framework/lazy_learning_framework.py:85: UserWarning: Boolean Series key will be reindexed to match DataFrame index.\n",
      "  frequent_one_class = self._find_frequent_itemsets(X_train[Y_train == 1])\n"
     ]
    },
    {
     "name": "stdout",
     "output_type": "stream",
     "text": [
      "Fold 2 Accuracy 0.7192982456140351\n"
     ]
    },
    {
     "name": "stderr",
     "output_type": "stream",
     "text": [
      "/home/jupyter/HSE/OSDA/BigHW/framework/lazy_learning_framework.py:84: UserWarning: Boolean Series key will be reindexed to match DataFrame index.\n",
      "  frequent_zero_class = self._find_frequent_itemsets(X_train[Y_train == 0])\n",
      "/home/jupyter/HSE/OSDA/BigHW/framework/lazy_learning_framework.py:85: UserWarning: Boolean Series key will be reindexed to match DataFrame index.\n",
      "  frequent_one_class = self._find_frequent_itemsets(X_train[Y_train == 1])\n"
     ]
    },
    {
     "name": "stdout",
     "output_type": "stream",
     "text": [
      "Fold 3 Accuracy 0.543859649122807\n"
     ]
    },
    {
     "name": "stderr",
     "output_type": "stream",
     "text": [
      "/home/jupyter/HSE/OSDA/BigHW/framework/lazy_learning_framework.py:84: UserWarning: Boolean Series key will be reindexed to match DataFrame index.\n",
      "  frequent_zero_class = self._find_frequent_itemsets(X_train[Y_train == 0])\n",
      "/home/jupyter/HSE/OSDA/BigHW/framework/lazy_learning_framework.py:85: UserWarning: Boolean Series key will be reindexed to match DataFrame index.\n",
      "  frequent_one_class = self._find_frequent_itemsets(X_train[Y_train == 1])\n"
     ]
    },
    {
     "name": "stdout",
     "output_type": "stream",
     "text": [
      "Fold 4 Accuracy 0.8070175438596491\n",
      "\n",
      "\n",
      "\n",
      "\n",
      "OOF accuracy 0.6048951048951049\n",
      "TN 131 FP 70 FN 43 TP 42\n",
      "OOF precision 0.375\n",
      "OOF recall 0.27058823529411763\n",
      "\n",
      "\n",
      "\n",
      "----------------------------------Running GridSearch; Iteration 21----------------------------------\n",
      "\n"
     ]
    },
    {
     "name": "stderr",
     "output_type": "stream",
     "text": [
      "/home/jupyter/HSE/OSDA/BigHW/framework/lazy_learning_framework.py:125: UserWarning: Boolean Series key will be reindexed to match DataFrame index.\n",
      "  frequent_zero_class = self._find_frequent_itemsets(X_train[Y_train == 0])\n",
      "/home/jupyter/HSE/OSDA/BigHW/framework/lazy_learning_framework.py:126: UserWarning: Boolean Series key will be reindexed to match DataFrame index.\n",
      "  frequent_one_class = self._find_frequent_itemsets(X_train[Y_train == 1])\n"
     ]
    },
    {
     "name": "stdout",
     "output_type": "stream",
     "text": [
      "Fold 0 Accuracy 0.6379310344827587\n"
     ]
    },
    {
     "name": "stderr",
     "output_type": "stream",
     "text": [
      "/home/jupyter/HSE/OSDA/BigHW/framework/lazy_learning_framework.py:125: UserWarning: Boolean Series key will be reindexed to match DataFrame index.\n",
      "  frequent_zero_class = self._find_frequent_itemsets(X_train[Y_train == 0])\n",
      "/home/jupyter/HSE/OSDA/BigHW/framework/lazy_learning_framework.py:126: UserWarning: Boolean Series key will be reindexed to match DataFrame index.\n",
      "  frequent_one_class = self._find_frequent_itemsets(X_train[Y_train == 1])\n"
     ]
    },
    {
     "name": "stdout",
     "output_type": "stream",
     "text": [
      "Fold 1 Accuracy 0.5789473684210527\n"
     ]
    },
    {
     "name": "stderr",
     "output_type": "stream",
     "text": [
      "/home/jupyter/HSE/OSDA/BigHW/framework/lazy_learning_framework.py:125: UserWarning: Boolean Series key will be reindexed to match DataFrame index.\n",
      "  frequent_zero_class = self._find_frequent_itemsets(X_train[Y_train == 0])\n",
      "/home/jupyter/HSE/OSDA/BigHW/framework/lazy_learning_framework.py:126: UserWarning: Boolean Series key will be reindexed to match DataFrame index.\n",
      "  frequent_one_class = self._find_frequent_itemsets(X_train[Y_train == 1])\n"
     ]
    },
    {
     "name": "stdout",
     "output_type": "stream",
     "text": [
      "Fold 2 Accuracy 0.7368421052631579\n"
     ]
    },
    {
     "name": "stderr",
     "output_type": "stream",
     "text": [
      "/home/jupyter/HSE/OSDA/BigHW/framework/lazy_learning_framework.py:125: UserWarning: Boolean Series key will be reindexed to match DataFrame index.\n",
      "  frequent_zero_class = self._find_frequent_itemsets(X_train[Y_train == 0])\n",
      "/home/jupyter/HSE/OSDA/BigHW/framework/lazy_learning_framework.py:126: UserWarning: Boolean Series key will be reindexed to match DataFrame index.\n",
      "  frequent_one_class = self._find_frequent_itemsets(X_train[Y_train == 1])\n"
     ]
    },
    {
     "name": "stdout",
     "output_type": "stream",
     "text": [
      "Fold 3 Accuracy 0.7719298245614035\n"
     ]
    },
    {
     "name": "stderr",
     "output_type": "stream",
     "text": [
      "/home/jupyter/HSE/OSDA/BigHW/framework/lazy_learning_framework.py:125: UserWarning: Boolean Series key will be reindexed to match DataFrame index.\n",
      "  frequent_zero_class = self._find_frequent_itemsets(X_train[Y_train == 0])\n",
      "/home/jupyter/HSE/OSDA/BigHW/framework/lazy_learning_framework.py:126: UserWarning: Boolean Series key will be reindexed to match DataFrame index.\n",
      "  frequent_one_class = self._find_frequent_itemsets(X_train[Y_train == 1])\n"
     ]
    },
    {
     "name": "stdout",
     "output_type": "stream",
     "text": [
      "Fold 4 Accuracy 0.7894736842105263\n",
      "\n",
      "\n",
      "\n",
      "\n",
      "OOF accuracy 0.7027972027972028\n",
      "TN 181 FP 20 FN 65 TP 20\n",
      "OOF precision 0.5\n",
      "OOF recall 0.27058823529411763\n",
      "\n",
      "\n",
      "\n",
      "----------------------------------Running GridSearch; Iteration 22----------------------------------\n",
      "\n"
     ]
    },
    {
     "name": "stderr",
     "output_type": "stream",
     "text": [
      "/home/jupyter/HSE/OSDA/BigHW/framework/lazy_learning_framework.py:84: UserWarning: Boolean Series key will be reindexed to match DataFrame index.\n",
      "  frequent_zero_class = self._find_frequent_itemsets(X_train[Y_train == 0])\n",
      "/home/jupyter/HSE/OSDA/BigHW/framework/lazy_learning_framework.py:85: UserWarning: Boolean Series key will be reindexed to match DataFrame index.\n",
      "  frequent_one_class = self._find_frequent_itemsets(X_train[Y_train == 1])\n"
     ]
    },
    {
     "name": "stdout",
     "output_type": "stream",
     "text": [
      "Fold 0 Accuracy 0.43103448275862066\n"
     ]
    },
    {
     "name": "stderr",
     "output_type": "stream",
     "text": [
      "/home/jupyter/HSE/OSDA/BigHW/framework/lazy_learning_framework.py:84: UserWarning: Boolean Series key will be reindexed to match DataFrame index.\n",
      "  frequent_zero_class = self._find_frequent_itemsets(X_train[Y_train == 0])\n",
      "/home/jupyter/HSE/OSDA/BigHW/framework/lazy_learning_framework.py:85: UserWarning: Boolean Series key will be reindexed to match DataFrame index.\n",
      "  frequent_one_class = self._find_frequent_itemsets(X_train[Y_train == 1])\n"
     ]
    },
    {
     "name": "stdout",
     "output_type": "stream",
     "text": [
      "Fold 1 Accuracy 0.5263157894736842\n"
     ]
    },
    {
     "name": "stderr",
     "output_type": "stream",
     "text": [
      "/home/jupyter/HSE/OSDA/BigHW/framework/lazy_learning_framework.py:84: UserWarning: Boolean Series key will be reindexed to match DataFrame index.\n",
      "  frequent_zero_class = self._find_frequent_itemsets(X_train[Y_train == 0])\n",
      "/home/jupyter/HSE/OSDA/BigHW/framework/lazy_learning_framework.py:85: UserWarning: Boolean Series key will be reindexed to match DataFrame index.\n",
      "  frequent_one_class = self._find_frequent_itemsets(X_train[Y_train == 1])\n"
     ]
    },
    {
     "name": "stdout",
     "output_type": "stream",
     "text": [
      "Fold 2 Accuracy 0.7192982456140351\n"
     ]
    },
    {
     "name": "stderr",
     "output_type": "stream",
     "text": [
      "/home/jupyter/HSE/OSDA/BigHW/framework/lazy_learning_framework.py:84: UserWarning: Boolean Series key will be reindexed to match DataFrame index.\n",
      "  frequent_zero_class = self._find_frequent_itemsets(X_train[Y_train == 0])\n",
      "/home/jupyter/HSE/OSDA/BigHW/framework/lazy_learning_framework.py:85: UserWarning: Boolean Series key will be reindexed to match DataFrame index.\n",
      "  frequent_one_class = self._find_frequent_itemsets(X_train[Y_train == 1])\n"
     ]
    },
    {
     "name": "stdout",
     "output_type": "stream",
     "text": [
      "Fold 3 Accuracy 0.543859649122807\n"
     ]
    },
    {
     "name": "stderr",
     "output_type": "stream",
     "text": [
      "/home/jupyter/HSE/OSDA/BigHW/framework/lazy_learning_framework.py:84: UserWarning: Boolean Series key will be reindexed to match DataFrame index.\n",
      "  frequent_zero_class = self._find_frequent_itemsets(X_train[Y_train == 0])\n",
      "/home/jupyter/HSE/OSDA/BigHW/framework/lazy_learning_framework.py:85: UserWarning: Boolean Series key will be reindexed to match DataFrame index.\n",
      "  frequent_one_class = self._find_frequent_itemsets(X_train[Y_train == 1])\n"
     ]
    },
    {
     "name": "stdout",
     "output_type": "stream",
     "text": [
      "Fold 4 Accuracy 0.8070175438596491\n",
      "\n",
      "\n",
      "\n",
      "\n",
      "OOF accuracy 0.6048951048951049\n",
      "TN 131 FP 70 FN 43 TP 42\n",
      "OOF precision 0.375\n",
      "OOF recall 0.27058823529411763\n",
      "\n",
      "\n",
      "\n",
      "----------------------------------Running GridSearch; Iteration 23----------------------------------\n",
      "\n"
     ]
    },
    {
     "name": "stderr",
     "output_type": "stream",
     "text": [
      "/home/jupyter/HSE/OSDA/BigHW/framework/lazy_learning_framework.py:125: UserWarning: Boolean Series key will be reindexed to match DataFrame index.\n",
      "  frequent_zero_class = self._find_frequent_itemsets(X_train[Y_train == 0])\n",
      "/home/jupyter/HSE/OSDA/BigHW/framework/lazy_learning_framework.py:126: UserWarning: Boolean Series key will be reindexed to match DataFrame index.\n",
      "  frequent_one_class = self._find_frequent_itemsets(X_train[Y_train == 1])\n"
     ]
    },
    {
     "name": "stdout",
     "output_type": "stream",
     "text": [
      "Fold 0 Accuracy 0.6379310344827587\n"
     ]
    },
    {
     "name": "stderr",
     "output_type": "stream",
     "text": [
      "/home/jupyter/HSE/OSDA/BigHW/framework/lazy_learning_framework.py:125: UserWarning: Boolean Series key will be reindexed to match DataFrame index.\n",
      "  frequent_zero_class = self._find_frequent_itemsets(X_train[Y_train == 0])\n",
      "/home/jupyter/HSE/OSDA/BigHW/framework/lazy_learning_framework.py:126: UserWarning: Boolean Series key will be reindexed to match DataFrame index.\n",
      "  frequent_one_class = self._find_frequent_itemsets(X_train[Y_train == 1])\n"
     ]
    },
    {
     "name": "stdout",
     "output_type": "stream",
     "text": [
      "Fold 1 Accuracy 0.5789473684210527\n"
     ]
    },
    {
     "name": "stderr",
     "output_type": "stream",
     "text": [
      "/home/jupyter/HSE/OSDA/BigHW/framework/lazy_learning_framework.py:125: UserWarning: Boolean Series key will be reindexed to match DataFrame index.\n",
      "  frequent_zero_class = self._find_frequent_itemsets(X_train[Y_train == 0])\n",
      "/home/jupyter/HSE/OSDA/BigHW/framework/lazy_learning_framework.py:126: UserWarning: Boolean Series key will be reindexed to match DataFrame index.\n",
      "  frequent_one_class = self._find_frequent_itemsets(X_train[Y_train == 1])\n"
     ]
    },
    {
     "name": "stdout",
     "output_type": "stream",
     "text": [
      "Fold 2 Accuracy 0.7368421052631579\n"
     ]
    },
    {
     "name": "stderr",
     "output_type": "stream",
     "text": [
      "/home/jupyter/HSE/OSDA/BigHW/framework/lazy_learning_framework.py:125: UserWarning: Boolean Series key will be reindexed to match DataFrame index.\n",
      "  frequent_zero_class = self._find_frequent_itemsets(X_train[Y_train == 0])\n",
      "/home/jupyter/HSE/OSDA/BigHW/framework/lazy_learning_framework.py:126: UserWarning: Boolean Series key will be reindexed to match DataFrame index.\n",
      "  frequent_one_class = self._find_frequent_itemsets(X_train[Y_train == 1])\n"
     ]
    },
    {
     "name": "stdout",
     "output_type": "stream",
     "text": [
      "Fold 3 Accuracy 0.7719298245614035\n"
     ]
    },
    {
     "name": "stderr",
     "output_type": "stream",
     "text": [
      "/home/jupyter/HSE/OSDA/BigHW/framework/lazy_learning_framework.py:125: UserWarning: Boolean Series key will be reindexed to match DataFrame index.\n",
      "  frequent_zero_class = self._find_frequent_itemsets(X_train[Y_train == 0])\n",
      "/home/jupyter/HSE/OSDA/BigHW/framework/lazy_learning_framework.py:126: UserWarning: Boolean Series key will be reindexed to match DataFrame index.\n",
      "  frequent_one_class = self._find_frequent_itemsets(X_train[Y_train == 1])\n"
     ]
    },
    {
     "name": "stdout",
     "output_type": "stream",
     "text": [
      "Fold 4 Accuracy 0.7894736842105263\n",
      "\n",
      "\n",
      "\n",
      "\n",
      "OOF accuracy 0.7027972027972028\n",
      "TN 181 FP 20 FN 65 TP 20\n",
      "OOF precision 0.5\n",
      "OOF recall 0.27058823529411763\n"
     ]
    }
   ],
   "source": [
    "# grid search loop\n",
    "# I will limit the search space a bit to save time\n",
    "\n",
    "grid_search_params = {\n",
    "    'min_support': [0.2, 0.3, 0.4],\n",
    "    'allow_online_learning': [False, True],\n",
    "    'fca_algorithm': ['fpgrowth', 'apriori'],\n",
    "    'prediction_algorithm': ['most_itemsets', 'itemsets_intersection_sums']\n",
    "}\n",
    "\n",
    "best_acc = 0\n",
    "best_params = {}\n",
    "iteration_idx = 0\n",
    "for min_support in grid_search_params['min_support']:\n",
    "    for allow_online_learning in grid_search_params['allow_online_learning']:\n",
    "        for fca_algorithm in grid_search_params['fca_algorithm']:\n",
    "            for prediction_algorithm in grid_search_params['prediction_algorithm']:\n",
    "                \n",
    "                print(f'\\n\\n\\n----------------------------------Running GridSearch; Iteration {iteration_idx}----------------------------------\\n')\n",
    "                iteration_idx+=1\n",
    "                \n",
    "                params = {\n",
    "                    'min_support': min_support, \n",
    "                    'allow_online_learning': allow_online_learning, \n",
    "                    'fca_algorithm': fca_algorithm, \n",
    "                    'prediction_algorithm': prediction_algorithm\n",
    "                }\n",
    "                \n",
    "                acc = validate_algo(data, params)\n",
    "                if acc > best_acc:\n",
    "                    best_acc = acc\n",
    "                    best_params = params"
   ]
  },
  {
   "cell_type": "code",
   "execution_count": 18,
   "id": "19b5768c-68b1-4c1a-ab8e-07e591b0af27",
   "metadata": {},
   "outputs": [
    {
     "name": "stdout",
     "output_type": "stream",
     "text": [
      "Best Accuracy 0.7447552447552448\n",
      "Best Params {'min_support': 0.3, 'allow_online_learning': True, 'fca_algorithm': 'fpgrowth', 'prediction_algorithm': 'itemsets_intersection_sums'}\n"
     ]
    }
   ],
   "source": [
    "print('Best Accuracy', best_acc)\n",
    "print('Best Params', best_params)"
   ]
  },
  {
   "cell_type": "markdown",
   "id": "b53aa008-4e3a-484a-8010-9eb9b82ac2a8",
   "metadata": {},
   "source": [
    "## Compare to SKLearn models"
   ]
  },
  {
   "cell_type": "markdown",
   "id": "00fb376e-abdc-4f52-addf-cdae7bf484d0",
   "metadata": {},
   "source": [
    "### LogisticRegression"
   ]
  },
  {
   "cell_type": "code",
   "execution_count": 44,
   "id": "315f51dc-3ea1-4166-a9e9-d1c1505e1865",
   "metadata": {},
   "outputs": [
    {
     "name": "stdout",
     "output_type": "stream",
     "text": [
      "Fold 0 Accuracy 0.7241379310344828\n",
      "Fold 1 Accuracy 0.5964912280701754\n",
      "Fold 2 Accuracy 0.7368421052631579\n",
      "Fold 3 Accuracy 0.7894736842105263\n",
      "Fold 4 Accuracy 0.7192982456140351\n",
      "\n",
      "\n",
      "\n",
      "\n",
      "OOF accuracy 0.7132867132867133\n",
      "TN 177 FP 24 FN 58 TP 27\n",
      "OOF precision 0.5294117647058824\n",
      "OOF recall 0.3176470588235294\n"
     ]
    }
   ],
   "source": [
    "# KFold crossvalidation\n",
    "from sklearn.model_selection import KFold\n",
    "from sklearn.linear_model import LogisticRegression\n",
    "from sklearn.neighbors import KNeighborsClassifier\n",
    "from sklearn.tree import DecisionTreeClassifier\n",
    "from sklearn.metrics import accuracy_score, precision_score, recall_score, confusion_matrix\n",
    "\n",
    "X, Y = data.drop(columns = ['class']), data['class']\n",
    "kf = KFold(n_splits = 5, shuffle = True, random_state = RANDOM_SEED)\n",
    "oof_preds = np.zeros(Y.shape[0])\n",
    "\n",
    "for fold_idx, (tr_idx, val_idx) in enumerate(kf.split(X, Y)):\n",
    "    X_tr, X_val = X.iloc[tr_idx], X.iloc[val_idx]\n",
    "    Y_tr, Y_val = Y.iloc[tr_idx], Y.iloc[val_idx]\n",
    "    \n",
    "    model = LogisticRegression()\n",
    "    model.fit(X_tr, Y_tr)\n",
    "    Y_pred = model.predict(X_val)\n",
    "    oof_preds[val_idx] = Y_pred\n",
    "    print(f'Fold {fold_idx} Accuracy', accuracy_score(Y_val, Y_pred))\n",
    "\n",
    "print_oof_metrics(Y, oof_preds)"
   ]
  },
  {
   "cell_type": "markdown",
   "id": "32a27e78-3b15-4111-b8b7-b9c9a2a57931",
   "metadata": {},
   "source": [
    "### KNN"
   ]
  },
  {
   "cell_type": "code",
   "execution_count": 43,
   "id": "aa6922ef-5d2d-49f4-a8f6-5a41ceafb77a",
   "metadata": {},
   "outputs": [
    {
     "name": "stdout",
     "output_type": "stream",
     "text": [
      "Fold 0 Accuracy 0.7413793103448276\n",
      "Fold 1 Accuracy 0.5789473684210527\n",
      "Fold 2 Accuracy 0.7192982456140351\n",
      "Fold 3 Accuracy 0.7543859649122807\n",
      "Fold 4 Accuracy 0.7017543859649122\n",
      "\n",
      "\n",
      "\n",
      "\n",
      "OOF accuracy 0.6993006993006993\n",
      "TN 175 FP 26 FN 60 TP 25\n",
      "OOF precision 0.49019607843137253\n",
      "OOF recall 0.29411764705882354\n"
     ]
    }
   ],
   "source": [
    "# KFold crossvalidation\n",
    "from sklearn.model_selection import KFold\n",
    "from sklearn.linear_model import LogisticRegression\n",
    "from sklearn.neighbors import KNeighborsClassifier\n",
    "from sklearn.tree import DecisionTreeClassifier\n",
    "from sklearn.metrics import accuracy_score, precision_score, recall_score, confusion_matrix\n",
    "\n",
    "X, Y = data.drop(columns = ['class']), data['class']\n",
    "kf = KFold(n_splits = 5, shuffle = True, random_state = RANDOM_SEED)\n",
    "oof_preds = np.zeros(Y.shape[0])\n",
    "\n",
    "for fold_idx, (tr_idx, val_idx) in enumerate(kf.split(X, Y)):\n",
    "    X_tr, X_val = X.iloc[tr_idx], X.iloc[val_idx]\n",
    "    Y_tr, Y_val = Y.iloc[tr_idx], Y.iloc[val_idx]\n",
    "    \n",
    "    model = KNeighborsClassifier()\n",
    "    model.fit(X_tr, Y_tr)\n",
    "    Y_pred = model.predict(X_val)\n",
    "    oof_preds[val_idx] = Y_pred\n",
    "    print(f'Fold {fold_idx} Accuracy', accuracy_score(Y_val, Y_pred))\n",
    "\n",
    "print_oof_metrics(Y, oof_preds)"
   ]
  },
  {
   "cell_type": "markdown",
   "id": "c557b4ff-12d9-47f7-a2b0-764148962b7b",
   "metadata": {},
   "source": [
    "### DecisionTreeClassifier"
   ]
  },
  {
   "cell_type": "code",
   "execution_count": 45,
   "id": "e0a587ca-6466-4713-95b5-c67c688fc1fd",
   "metadata": {},
   "outputs": [
    {
     "name": "stdout",
     "output_type": "stream",
     "text": [
      "Fold 0 Accuracy 0.6379310344827587\n",
      "Fold 1 Accuracy 0.6140350877192983\n",
      "Fold 2 Accuracy 0.6842105263157895\n",
      "Fold 3 Accuracy 0.5964912280701754\n",
      "Fold 4 Accuracy 0.7017543859649122\n",
      "\n",
      "\n",
      "\n",
      "\n",
      "OOF accuracy 0.6468531468531469\n",
      "TN 154 FP 47 FN 54 TP 31\n",
      "OOF precision 0.3974358974358974\n",
      "OOF recall 0.36470588235294116\n"
     ]
    }
   ],
   "source": [
    "# KFold crossvalidation\n",
    "from sklearn.model_selection import KFold\n",
    "from sklearn.linear_model import LogisticRegression\n",
    "from sklearn.neighbors import KNeighborsClassifier\n",
    "from sklearn.tree import DecisionTreeClassifier\n",
    "from sklearn.metrics import accuracy_score, precision_score, recall_score, confusion_matrix\n",
    "\n",
    "X, Y = data.drop(columns = ['class']), data['class']\n",
    "kf = KFold(n_splits = 5, shuffle = True, random_state = RANDOM_SEED)\n",
    "oof_preds = np.zeros(Y.shape[0])\n",
    "\n",
    "for fold_idx, (tr_idx, val_idx) in enumerate(kf.split(X, Y)):\n",
    "    X_tr, X_val = X.iloc[tr_idx], X.iloc[val_idx]\n",
    "    Y_tr, Y_val = Y.iloc[tr_idx], Y.iloc[val_idx]\n",
    "    \n",
    "    model = DecisionTreeClassifier()\n",
    "    model.fit(X_tr, Y_tr)\n",
    "    Y_pred = model.predict(X_val)\n",
    "    oof_preds[val_idx] = Y_pred\n",
    "    print(f'Fold {fold_idx} Accuracy', accuracy_score(Y_val, Y_pred))\n",
    "\n",
    "print_oof_metrics(Y, oof_preds)"
   ]
  }
 ],
 "metadata": {
  "environment": {
   "name": "common-cu110.m80",
   "type": "gcloud",
   "uri": "gcr.io/deeplearning-platform-release/base-cu110:m80"
  },
  "kernelspec": {
   "display_name": "Python 3",
   "language": "python",
   "name": "python3"
  },
  "language_info": {
   "codemirror_mode": {
    "name": "ipython",
    "version": 3
   },
   "file_extension": ".py",
   "mimetype": "text/x-python",
   "name": "python",
   "nbconvert_exporter": "python",
   "pygments_lexer": "ipython3",
   "version": "3.7.10"
  }
 },
 "nbformat": 4,
 "nbformat_minor": 5
}
